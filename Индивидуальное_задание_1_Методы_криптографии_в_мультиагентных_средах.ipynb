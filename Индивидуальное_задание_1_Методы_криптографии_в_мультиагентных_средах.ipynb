{
  "nbformat": 4,
  "nbformat_minor": 0,
  "metadata": {
    "colab": {
      "provenance": [],
      "authorship_tag": "ABX9TyOE50fq3pfd/oxPACYQMvRY",
      "include_colab_link": true
    },
    "kernelspec": {
      "name": "python3",
      "display_name": "Python 3"
    },
    "language_info": {
      "name": "python"
    }
  },
  "cells": [
    {
      "cell_type": "markdown",
      "metadata": {
        "id": "view-in-github",
        "colab_type": "text"
      },
      "source": [
        "<a href=\"https://colab.research.google.com/github/BosenkoTM/Repo_Sec_Multi_Sys/blob/main/%D0%98%D0%BD%D0%B4%D0%B8%D0%B2%D0%B8%D0%B4%D1%83%D0%B0%D0%BB%D1%8C%D0%BD%D0%BE%D0%B5_%D0%B7%D0%B0%D0%B4%D0%B0%D0%BD%D0%B8%D0%B5_1_%D0%9C%D0%B5%D1%82%D0%BE%D0%B4%D1%8B_%D0%BA%D1%80%D0%B8%D0%BF%D1%82%D0%BE%D0%B3%D1%80%D0%B0%D1%84%D0%B8%D0%B8_%D0%B2_%D0%BC%D1%83%D0%BB%D1%8C%D1%82%D0%B8%D0%B0%D0%B3%D0%B5%D0%BD%D1%82%D0%BD%D1%8B%D1%85_%D1%81%D1%80%D0%B5%D0%B4%D0%B0%D1%85.ipynb\" target=\"_parent\"><img src=\"https://colab.research.google.com/assets/colab-badge.svg\" alt=\"Open In Colab\"/></a>"
      ]
    },
    {
      "cell_type": "markdown",
      "source": [
        "# Аутентифицированное шифрование"
      ],
      "metadata": {
        "id": "IDThG8PjZi6w"
      }
    },
    {
      "cell_type": "code",
      "source": [
        "!pip install cryptography"
      ],
      "metadata": {
        "colab": {
          "base_uri": "https://localhost:8080/"
        },
        "id": "nTG2EJ5UaJ8J",
        "outputId": "a5f6404e-7682-46cd-dde2-a1191ae0f160"
      },
      "execution_count": 2,
      "outputs": [
        {
          "output_type": "stream",
          "name": "stdout",
          "text": [
            "Looking in indexes: https://pypi.org/simple, https://us-python.pkg.dev/colab-wheels/public/simple/\n",
            "Collecting cryptography\n",
            "  Downloading cryptography-39.0.1-cp36-abi3-manylinux_2_28_x86_64.whl (4.2 MB)\n",
            "\u001b[2K     \u001b[90m━━━━━━━━━━━━━━━━━━━━━━━━━━━━━━━━━━━━━━━━\u001b[0m \u001b[32m4.2/4.2 MB\u001b[0m \u001b[31m33.4 MB/s\u001b[0m eta \u001b[36m0:00:00\u001b[0m\n",
            "\u001b[?25hRequirement already satisfied: cffi>=1.12 in /usr/local/lib/python3.8/dist-packages (from cryptography) (1.15.1)\n",
            "Requirement already satisfied: pycparser in /usr/local/lib/python3.8/dist-packages (from cffi>=1.12->cryptography) (2.21)\n",
            "Installing collected packages: cryptography\n",
            "Successfully installed cryptography-39.0.1\n"
          ]
        }
      ]
    },
    {
      "cell_type": "code",
      "execution_count": 3,
      "metadata": {
        "colab": {
          "base_uri": "https://localhost:8080/"
        },
        "id": "0-GcLaWQZfu9",
        "outputId": "6ae432bd-eeeb-4f59-d366-37d17d8df095"
      },
      "outputs": [
        {
          "output_type": "execute_result",
          "data": {
            "text/plain": [
              "b'a secret message'"
            ]
          },
          "metadata": {},
          "execution_count": 3
        }
      ],
      "source": [
        "import os\n",
        "from cryptography.hazmat.primitives.ciphers.aead import ChaCha20Poly1305\n",
        "data = b\"a secret message\"\n",
        "aad = b\"authenticated but unencrypted data\"\n",
        "key = ChaCha20Poly1305.generate_key()\n",
        "chacha = ChaCha20Poly1305(key)\n",
        "nonce = os.urandom(12)\n",
        "ct = chacha.encrypt(nonce, data, aad)\n",
        "chacha.decrypt(nonce, ct, aad)"
      ]
    },
    {
      "cell_type": "code",
      "source": [
        "import os\n",
        "from cryptography.hazmat.primitives.ciphers.aead import AESCCM\n",
        "data = b\"a secret message\"\n",
        "aad = b\"authenticated but unencrypted data\"\n",
        "key = AESCCM.generate_key(bit_length=128)\n",
        "aesccm = AESCCM(key)\n",
        "nonce = os.urandom(13)\n",
        "ct = aesccm.encrypt(nonce, data, aad)\n",
        "aesccm.decrypt(nonce, ct, aad)"
      ],
      "metadata": {
        "colab": {
          "base_uri": "https://localhost:8080/"
        },
        "id": "Ak-MGBH8aihp",
        "outputId": "1179d362-ee37-4dd6-e084-8f4953dd06b0"
      },
      "execution_count": 4,
      "outputs": [
        {
          "output_type": "execute_result",
          "data": {
            "text/plain": [
              "b'a secret message'"
            ]
          },
          "metadata": {},
          "execution_count": 4
        }
      ]
    },
    {
      "cell_type": "markdown",
      "source": [
        "# Ed25519 signing\n"
      ],
      "metadata": {
        "id": "1EpdMh6ba1ic"
      }
    },
    {
      "cell_type": "markdown",
      "source": [
        "Ed25519 — это алгоритм подписи на эллиптической кривой с использованием EdDSA и Curve25519 . Если у вас нет устаревших проблем с функциональной совместимостью, вам следует настоятельно рассмотреть возможность использования этого алгоритма подписи."
      ],
      "metadata": {
        "id": "g8u-S8JrbLqx"
      }
    },
    {
      "cell_type": "code",
      "source": [
        "from cryptography.hazmat.primitives.asymmetric.ed25519 import Ed25519PrivateKey\n",
        "private_key = Ed25519PrivateKey.generate()\n",
        "signature = private_key.sign(b\"my authenticated message\")\n",
        "public_key = private_key.public_key()\n",
        "# Raises InvalidSignature if verification fails\n",
        "public_key.verify(signature, b\"my authenticated message\")"
      ],
      "metadata": {
        "id": "dBexhPnca7Fa"
      },
      "execution_count": 5,
      "outputs": []
    }
  ]
}